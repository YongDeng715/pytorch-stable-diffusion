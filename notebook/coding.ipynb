{
 "cells": [
  {
   "cell_type": "markdown",
   "metadata": {},
   "source": [
    "# Coding Stable Diffusion from scatch in PyTorch\n",
    "\n",
    "video source: https://www.youtube.com/watch?v=ZBKpAp_6TGI&list=WL&index=4;  \n",
    "code github src: https://github.com/hkproj/pytorch-stable-diffusion."
   ]
  },
  {
   "cell_type": "code",
   "execution_count": null,
   "metadata": {},
   "outputs": [],
   "source": []
  }
 ],
 "metadata": {
  "language_info": {
   "name": "python"
  }
 },
 "nbformat": 4,
 "nbformat_minor": 2
}
